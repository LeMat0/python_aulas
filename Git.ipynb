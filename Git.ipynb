{
 "cells": [
  {
   "cell_type": "markdown",
   "id": "09675426",
   "metadata": {},
   "source": [
    "# GitHub\n",
    "\n",
    "baixa e instala\n",
    "cria uma pasta\n",
    "clique com o botao direito e em\n",
    "Git Bash Here (Git bata aqui)\n",
    "git init\n",
    "\n",
    "e Enter\n",
    "\n",
    "Visualizar - itens ocultos\n",
    "Visualizar - Extenções de nomes de arquivos\n",
    "\n",
    "Este arquivo não deve ser alterado manualmente \n",
    "\n",
    "No commits yet ( Ainda não existem versões do codigo)\n"
   ]
  },
  {
   "cell_type": "code",
   "execution_count": null,
   "id": "e7910432",
   "metadata": {},
   "outputs": [],
   "source": [
    "git "
   ]
  },
  {
   "cell_type": "markdown",
   "id": "7a6d5feb",
   "metadata": {},
   "source": [
    "## Para ver o satus do repositorio, se esta atualizado\n",
    "git status\n",
    "\n",
    "## Para incluir o arquivo no controle de versão\n",
    "git add \"texto 01.txt\"\n",
    "\n",
    "## Para incluir todos os  arquivos da pasta no controle de versão\n",
    "git add .\n",
    "\n",
    "## Para incluir uma nova versão\n",
    "git commit -m \"\" \n",
    "\n",
    "m de mensagem que vai informar o que foi alterado nesta nova versão \n",
    "Na versão inicial normalmente denominamos de commit inicial \n",
    "então fica assim\n",
    "git commit -m \"commit inicial\"\n",
    "\n",
    "se esta executando pela primeira vez, ele pedira que configure o Git no seu computador \n",
    "\n"
   ]
  },
  {
   "cell_type": "markdown",
   "id": "84c99258",
   "metadata": {},
   "source": [
    "\n"
   ]
  },
  {
   "cell_type": "markdown",
   "id": "fe04f4b0",
   "metadata": {},
   "source": []
  }
 ],
 "metadata": {
  "kernelspec": {
   "display_name": "Python 3 (ipykernel)",
   "language": "python",
   "name": "python3"
  },
  "language_info": {
   "codemirror_mode": {
    "name": "ipython",
    "version": 3
   },
   "file_extension": ".py",
   "mimetype": "text/x-python",
   "name": "python",
   "nbconvert_exporter": "python",
   "pygments_lexer": "ipython3",
   "version": "3.9.12"
  }
 },
 "nbformat": 4,
 "nbformat_minor": 5
}
