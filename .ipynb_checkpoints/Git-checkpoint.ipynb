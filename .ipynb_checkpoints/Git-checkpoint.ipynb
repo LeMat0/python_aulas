{
 "cells": [
  {
   "cell_type": "markdown",
   "id": "09675426",
   "metadata": {},
   "source": [
    "\n",
    "# GitHub\n",
    "\n",
    "baixa e instala\n",
    "cria uma pasta\n",
    "clique com o botao direito e em\n",
    "Git Bash Here (Git bata aqui)\n",
    "git init\n",
    "\n",
    "e Enter\n",
    "\n",
    "Visualizar - itens ocultos\n",
    "Visualizar - Extenções de nomes de arquivos\n",
    "\n",
    "Este arquivo não deve ser alterado manualmente \n",
    "\n",
    "No commits yet ( Ainda não existem versões do codigo)\n",
    "\n",
    "### Jupyter, Alterando o Diretório Padrão\n",
    "jupyter notebook --generate-config\n",
    "O jupyter ira criar um arquivo de configuraçao chamado de jupyter_notebook_config.py\n",
    "|Você ira abrir  o arquivo no Bloco de Notas e dirá o diretorio padrao que deseja .\n",
    "ira procurar a seguinte linha de cogigo \n",
    "\n",
    "c.NotebookApp.notebook_dir = ''\n",
    "CTRL + F\n",
    "Você descomenta a linha (tira a #) e coloca o local \n",
    "c.NotebookApp.notebook_dir = 'e salva o arquivo '\n",
    "Fecha tudo e entre pelo terminal com o comando \n",
    "jupyter notebook\n",
    "\n"
   ]
  },
  {
   "cell_type": "code",
   "execution_count": null,
   "id": "e7910432",
   "metadata": {},
   "outputs": [],
   "source": [
    "git "
   ]
  },
  {
   "cell_type": "markdown",
   "id": "7a6d5feb",
   "metadata": {},
   "source": [
    "## Para ver o satus do repositorio, se esta atualizado\n",
    "\n",
    "git status\n",
    "\n",
    "## Para incluir o arquivo no controle de versão\n",
    "\n",
    "git add \"texto 01.txt\"\n",
    "\n",
    "## Para incluir todos os  arquivos da pasta no controle de versão\n",
    "\n",
    "git add .\n",
    "\n",
    "## Para incluir uma nova versão\n",
    "\n",
    "git commit -m \"\" \n",
    "\n",
    "m de mensagem que vai informar o que foi alterado nesta nova versão \n",
    "Na versão inicial normalmente denominamos de commit inicial \n",
    "então fica assim\n",
    "git commit -m \"commit inicial\"\n",
    "\n",
    "se esta executando pela primeira vez, ele pedira que configure o Git no seu computador \n",
    "git config --global user.email \"lematofficial@gmail.com\"\n",
    "\n",
    "git config --global user.nam\"LeMat0\"\n",
    "\n",
    "Então roda novamente o comando\n",
    "git commit -m(commit inicial)\n",
    "\n",
    "## Para enviar a primeira versão do codigo para a nuvem\n",
    "\n",
    "Vai no site do Git, logado clica em + - New Repository - \n",
    "importante clicar em Add a README file\n",
    "Creating repository\n",
    "\n",
    "Para informar aonde será enviado=\n",
    "\n",
    "git remote add origin https://github.com/LeMat0/python_aulas\n",
    "\n",
    "Para enviar de fato o codigo=\n",
    "\n",
    "git push\n",
    "\n",
    "A tela apresentara um erro e inicialmente enviaremos para a master\n",
    "\n",
    "git push --set-upstream origin master\n",
    "    \n",
    "Abrira a janela de Login se você ainda não tiver feito  o Login ela primeira vez, faz o Login e autoriza o acesso .\n",
    "Poderá verificar se deu certo, atualizando a pagina do Git, e vai em Main - Master\n",
    "\n",
    "## Fazer enviar alterações no codigo com GIt Push para servidores na nuvem \n",
    "\n",
    "Para verificar se houve alteração no codigo digita\n",
    "git status\n",
    "\n",
    "e então digita \n",
    "git add .\n",
    "\n",
    "e para confirmar vai em git status "
   ]
  },
  {
   "cell_type": "markdown",
   "id": "84c99258",
   "metadata": {},
   "source": [
    "\n"
   ]
  },
  {
   "cell_type": "markdown",
   "id": "c21c3920",
   "metadata": {},
   "source": []
  }
 ],
 "metadata": {
  "kernelspec": {
   "display_name": "Python 3 (ipykernel)",
   "language": "python",
   "name": "python3"
  },
  "language_info": {
   "codemirror_mode": {
    "name": "ipython",
    "version": 3
   },
   "file_extension": ".py",
   "mimetype": "text/x-python",
   "name": "python",
   "nbconvert_exporter": "python",
   "pygments_lexer": "ipython3",
   "version": "3.10.7"
  }
 },
 "nbformat": 4,
 "nbformat_minor": 5
}
